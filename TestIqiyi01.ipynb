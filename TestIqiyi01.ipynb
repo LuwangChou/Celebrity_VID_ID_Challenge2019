{
  "nbformat": 4,
  "nbformat_minor": 0,
  "metadata": {
    "colab": {
      "name": "TestIqiyi01",
      "version": "0.3.2",
      "provenance": [],
      "collapsed_sections": [],
      "include_colab_link": true
    },
    "kernelspec": {
      "name": "python3",
      "display_name": "Python 3"
    },
    "accelerator": "GPU"
  },
  "cells": [
    {
      "cell_type": "markdown",
      "metadata": {
        "id": "view-in-github",
        "colab_type": "text"
      },
      "source": [
        "<a href=\"https://colab.research.google.com/github/LuwangChou/Celebrity_VID_ID_Challenge2019/blob/master/TestIqiyi01.ipynb\" target=\"_parent\"><img src=\"https://colab.research.google.com/assets/colab-badge.svg\" alt=\"Open In Colab\"/></a>"
      ]
    },
    {
      "metadata": {
        "id": "rSEFW4aFgTWn",
        "colab_type": "code",
        "colab": {}
      },
      "cell_type": "code",
      "source": [
        "# Install the PyDrive wrapper & import libraries.\n",
        "# This only needs to be done once per notebook.\n",
        "!pip install -U -q PyDrive\n",
        "from pydrive.auth import GoogleAuth\n",
        "from pydrive.drive import GoogleDrive\n",
        "from google.colab import auth\n",
        "from oauth2client.client import GoogleCredentials\n",
        "\n",
        "# Authenticate and create the PyDrive client.\n",
        "# This only needs to be done once per notebook.\n",
        "auth.authenticate_user()\n",
        "gauth = GoogleAuth()\n",
        "gauth.credentials = GoogleCredentials.get_application_default()\n",
        "drive = GoogleDrive(gauth)"
      ],
      "execution_count": 0,
      "outputs": []
    },
    {
      "metadata": {
        "id": "ffNI6nh2quoO",
        "colab_type": "text"
      },
      "cell_type": "markdown",
      "source": [
        "### 在GD上list 所有文件"
      ]
    },
    {
      "metadata": {
        "id": "6Sl8LMJYq0uG",
        "colab_type": "code",
        "colab": {}
      },
      "cell_type": "code",
      "source": [
        "# List .txt files in the root.\n",
        "#\n",
        "# Search query reference:\n",
        "# https://developers.google.com/drive/v2/web/search-parameters\n",
        "listed = drive.ListFile({'q': \"'root' in parents\"}).GetList()\n",
        "for file in listed:\n",
        "  print('title {}, id {}'.format(file['title'], file['id']))\n"
      ],
      "execution_count": 0,
      "outputs": []
    },
    {
      "metadata": {
        "id": "w8fJ5gERy17e",
        "colab_type": "text"
      },
      "cell_type": "markdown",
      "source": [
        "### GD的目录"
      ]
    },
    {
      "metadata": {
        "id": "kD_kjiKAy5lI",
        "colab_type": "code",
        "outputId": "7bb3424c-e536-4aeb-8501-630d7d8d14d8",
        "colab": {
          "base_uri": "https://localhost:8080/",
          "height": 35
        }
      },
      "cell_type": "code",
      "source": [
        "from google.colab import drive\n",
        "drive.mount('/gdrive',force_remount=True)"
      ],
      "execution_count": 0,
      "outputs": [
        {
          "output_type": "stream",
          "text": [
            "Mounted at /gdrive\n"
          ],
          "name": "stdout"
        }
      ]
    },
    {
      "metadata": {
        "id": "vTga-9RvzG9Q",
        "colab_type": "code",
        "colab": {}
      },
      "cell_type": "code",
      "source": [
        "with open('/gdrive/My Drive/foo.txt', 'w') as f:\n",
        "  f.write('Hello Google Drive!2')\n",
        "!cat '/gdrive/My Drive/foo.txt'"
      ],
      "execution_count": 0,
      "outputs": []
    },
    {
      "metadata": {
        "id": "NiAgX9kA2tYP",
        "colab_type": "text"
      },
      "cell_type": "markdown",
      "source": [
        "### 进入GD目录"
      ]
    },
    {
      "metadata": {
        "id": "UdGIXgpr2wHp",
        "colab_type": "code",
        "colab": {}
      },
      "cell_type": "code",
      "source": [
        "# cd /gdrive/My Drive\n",
        "!ls"
      ],
      "execution_count": 0,
      "outputs": []
    },
    {
      "metadata": {
        "id": "yEngYHYCqTJP",
        "colab_type": "text"
      },
      "cell_type": "markdown",
      "source": [
        "### 在GD 创建新文件\n"
      ]
    },
    {
      "metadata": {
        "id": "1FModmnBqSlv",
        "colab_type": "code",
        "colab": {}
      },
      "cell_type": "code",
      "source": [
        "# Create GoogleDriveFile instance with title 'Hello.txt'.\n",
        "file1 = drive.CreateFile({'title': 'Hello.txt'})\n",
        "file1.Upload() # Upload the file.\n",
        "print('title: %s, id: %s' % (file1['title'], file1['id']))\n",
        "# title: Hello.txt, id: {{FILE_ID}}"
      ],
      "execution_count": 0,
      "outputs": []
    },
    {
      "metadata": {
        "id": "zwaJ0sVkgXuW",
        "colab_type": "code",
        "colab": {}
      },
      "cell_type": "code",
      "source": [
        "# Download a file based on its file ID.\n",
        "#\n",
        "# A file ID looks like: laggVyWshwcyP6kEI-y_W3P8D26sz\n",
        "file_title = 'Hello2.txt'\n",
        "file_id = '1X4aKzwcFMu5yZSGxPQWR5YwUsjPfkVI2'\n",
        "downloaded = drive.CreateFile({'id': file_id})\n",
        "# downloaded = drive.CreateFile({'title': file_title})\n",
        "# print('Downloaded content \"{}\"'.format(downloaded.GetContentString()))\n",
        "print('Downloaded content \"{}\"'.format(down))"
      ],
      "execution_count": 0,
      "outputs": []
    },
    {
      "metadata": {
        "id": "vpPMtoxRlfc2",
        "colab_type": "code",
        "outputId": "a936ee4c-662f-4012-a388-3eb00ab94382",
        "colab": {
          "base_uri": "https://localhost:8080/",
          "height": 35
        }
      },
      "cell_type": "code",
      "source": [
        "# pwd\n",
        "# cd ..\n",
        "# cd root\n",
        "# pwd\n",
        "# !ls\n",
        "# cd Colab Notebooks\n",
        "# !ls\n",
        "# cd iqiyi_data\n",
        "# !ls\n",
        "# cd ..\n",
        "# !ls\n",
        "cd /gdrive/My Drive/Colab Notebooks/iqiyi_data"
      ],
      "execution_count": 0,
      "outputs": [
        {
          "output_type": "stream",
          "text": [
            "/gdrive/My Drive/Colab Notebooks/iqiyi_data\n"
          ],
          "name": "stdout"
        }
      ]
    },
    {
      "metadata": {
        "id": "_kzz-TtiHiNI",
        "colab_type": "text"
      },
      "cell_type": "markdown",
      "source": [
        "### 执行load_data.py 代码\n",
        "测试分别载入数据时间\n",
        "### Train :\n",
        "\n",
        "\n",
        "1.   face_v2\n",
        "\n",
        "> cpu读取时间\n",
        "\n",
        "\n",
        "\n",
        "\n",
        "2.   head\n",
        "\n",
        "3.   body\n",
        "11.070598155\n",
        "4.   audio\n",
        "Read_Audio_Time Used:0.23126690599999833\n",
        "\n",
        "### Val:\n",
        "\n",
        "\n",
        "\n",
        "1.   face_v2\n",
        "\n",
        "> cpu读取时间\n",
        "\n",
        "\n",
        "\n",
        "\n",
        "2.   head\n",
        "13.129853762\n",
        "3.   body\n",
        "16.212197231\n",
        "4.   audio\n",
        "0.33037352200000214\n"
      ]
    },
    {
      "metadata": {
        "id": "YW8JZAik1Lnr",
        "colab_type": "code",
        "outputId": "6f94eb52-c1a4-4a91-8af1-36b49469778e",
        "colab": {
          "base_uri": "https://localhost:8080/",
          "height": 104
        }
      },
      "cell_type": "code",
      "source": [
        "# -*- coding: utf-8 -*-\n",
        "import pdb\n",
        "import sys\n",
        "import numpy as np\n",
        "import pickle\n",
        "import time\n",
        "def load_pickle(fin):\n",
        "    return pickle.load(fin, encoding='bytes')\n",
        "\n",
        "start = time.process_time()\n",
        "# # face\n",
        "# face_path = './face_train_v2.pickle'\n",
        "# print('loading {}...'.format(face_path))\n",
        "# with open(face_path, 'rb') as fin:\n",
        "#     face_feats_dict = load_pickle(fin)\n",
        "\n",
        "face_time = time.process_time()\n",
        "print(\"Read_Face_Time Used:{}\".format(face_time-start))\n",
        "# print('testing...')\n",
        "# for video_ind, video_name in enumerate(face_feats_dict):\n",
        "#     sys.stdout.write('{}/{}\\r'.format(video_ind+1, len(face_feats_dict)))\n",
        "#     sys.stdout.flush()\n",
        "#     face_feats = face_feats_dict[video_name]\n",
        "#     last_fame_num = 0\n",
        "#     for ind, face_feat in enumerate(face_feats):\n",
        "#         [frame_str, bbox, det_score, quality_score, feat] = face_feat\n",
        "#         [x1, y1, x2, y2] = bbox\n",
        "#         assert(int(frame_str)>=last_fame_num)\n",
        "#         last_fame_num = int(frame_str)\n",
        "#         assert(0<=x1<=x2)\n",
        "#         assert(0<=y1<=y2)\n",
        "#         assert(type(det_score)==float)\n",
        "#         assert(type(quality_score)==float)\n",
        "#         assert(feat.dtype==np.float16 and feat.shape[0]==512)\n",
        "# sys.stdout.write('\\n')\n",
        "# sys.stdout.flush()\n",
        "\n",
        "# # head\n",
        "# head_path = './head_val.pickle'\n",
        "# print('loading {}...'.format(head_path))\n",
        "# with open(head_path, 'rb') as fin:\n",
        "#     head_feats_dict = load_pickle(fin)\n",
        "    \n",
        "head_time = time.process_time()\n",
        "print(\"Read_Head_Time Used:{}\".format(head_time-face_time))\n",
        "# print('testing...')\n",
        "# for video_ind, video_name in enumerate(head_feats_dict):\n",
        "#     sys.stdout.write('{}/{}\\r'.format(video_ind+1, len(head_feats_dict)))\n",
        "#     sys.stdout.flush()\n",
        "#     head_feats = head_feats_dict[video_name]\n",
        "#     last_fame_num = 0\n",
        "#     for ind, head_feat in enumerate(head_feats):\n",
        "#         [frame_str, bbox, det_score, feat] = head_feat\n",
        "#         [x1, y1, x2, y2] = bbox\n",
        "#         assert(int(frame_str)>=last_fame_num)\n",
        "#         last_fame_num = int(frame_str)\n",
        "#         assert(0<=x1<=x2)\n",
        "#         assert(0<=y1<=y2)\n",
        "#         assert(type(det_score)==float)\n",
        "#         assert(feat.dtype==np.float16 and feat.shape[0]==512)\n",
        "# sys.stdout.write('\\n')\n",
        "# sys.stdout.flush()\n",
        "\n",
        "# body\n",
        "body_path = './body_train.pickle'\n",
        "print('loading {}...'.format(body_path))\n",
        "with open(body_path, 'rb') as fin:\n",
        "    body_feats_dict = load_pickle(fin)\n",
        "\n",
        "body_time = time.process_time()\n",
        "print(\"Read_body_Time Used:{}\".format(body_time-head_time))\n",
        "print('testing...')\n",
        "for video_ind, video_name in enumerate(body_feats_dict):\n",
        "    sys.stdout.write('{}/{}\\r'.format(video_ind+1, len(body_feats_dict)))\n",
        "    sys.stdout.flush()\n",
        "    body_feats = body_feats_dict[video_name]\n",
        "    last_fame_num = 0\n",
        "    for ind, body_feat in enumerate(body_feats):\n",
        "        [frame_str, bbox, feat] = body_feat\n",
        "        [x1, y1, x2, y2] = bbox\n",
        "        assert(int(frame_str)>=last_fame_num)\n",
        "        last_fame_num = int(frame_str)\n",
        "        assert(0<=x1<=x2)\n",
        "        assert(0<=y1<=y2)\n",
        "        assert(feat.dtype==np.float16 and feat.shape[0]==512)\n",
        "sys.stdout.write('\\n')\n",
        "sys.stdout.flush()\n",
        "\n",
        "# # audio\n",
        "# audio_path = './audio_train.pickle'\n",
        "# print('loading {}...'.format(audio_path))\n",
        "# with open(audio_path, 'rb') as fin:\n",
        "#     audio_feats_dict = load_pickle(fin)\n",
        "\n",
        "audio_time = time.process_time()\n",
        "print(\"Read_Audio_Time Used:{}\".format(audio_time-body_time))\n",
        "# print('testing...')\n",
        "# for video_ind, video_name in enumerate(audio_feats_dict):\n",
        "#     sys.stdout.write('{}/{}\\r'.format(video_ind+1, len(audio_feats_dict)))\n",
        "#     sys.stdout.flush()\n",
        "#     audio_feat = audio_feats_dict[video_name]\n",
        "#     assert(audio_feat.dtype==np.float16 and audio_feat.shape[0]==512)\n",
        "# sys.stdout.write('\\n')\n",
        "# sys.stdout.flush()\n",
        "print(\"Load File Done!\")\n",
        "print(\"Total Time Used:{}\".format(time.process_time()-start))\n"
      ],
      "execution_count": 0,
      "outputs": [
        {
          "output_type": "stream",
          "text": [
            "Read_Face_Time Used:1.5901000000040355e-05\n",
            "Read_Head_Time Used:0.0011896479999999876\n",
            "loading ./body_train.pickle...\n",
            "Read_body_Time Used:11.54431173\n",
            "testing...\n"
          ],
          "name": "stdout"
        }
      ]
    },
    {
      "metadata": {
        "id": "a4haSiLmIQ6Q",
        "colab_type": "code",
        "outputId": "83d98e99-df53-4b75-c1d0-6da29ed24718",
        "colab": {
          "base_uri": "https://localhost:8080/",
          "height": 797
        }
      },
      "cell_type": "code",
      "source": [
        "!cat /proc/meminfo"
      ],
      "execution_count": 0,
      "outputs": [
        {
          "output_type": "stream",
          "text": [
            "MemTotal:       13335276 kB\n",
            "MemFree:         1844952 kB\n",
            "MemAvailable:    9402484 kB\n",
            "Buffers:           63172 kB\n",
            "Cached:          7505172 kB\n",
            "SwapCached:            0 kB\n",
            "Active:          3663472 kB\n",
            "Inactive:        7561136 kB\n",
            "Active(anon):    3472528 kB\n",
            "Inactive(anon):      356 kB\n",
            "Active(file):     190944 kB\n",
            "Inactive(file):  7560780 kB\n",
            "Unevictable:           0 kB\n",
            "Mlocked:               0 kB\n",
            "SwapTotal:             0 kB\n",
            "SwapFree:              0 kB\n",
            "Dirty:             28744 kB\n",
            "Writeback:             0 kB\n",
            "AnonPages:       3656364 kB\n",
            "Mapped:           140808 kB\n",
            "Shmem:               912 kB\n",
            "Slab:             128544 kB\n",
            "SReclaimable:      94748 kB\n",
            "SUnreclaim:        33796 kB\n",
            "KernelStack:        4672 kB\n",
            "PageTables:        12580 kB\n",
            "NFS_Unstable:          0 kB\n",
            "Bounce:                0 kB\n",
            "WritebackTmp:          0 kB\n",
            "CommitLimit:     6667636 kB\n",
            "Committed_AS:    5468628 kB\n",
            "VmallocTotal:   34359738367 kB\n",
            "VmallocUsed:           0 kB\n",
            "VmallocChunk:          0 kB\n",
            "AnonHugePages:      6144 kB\n",
            "ShmemHugePages:        0 kB\n",
            "ShmemPmdMapped:        0 kB\n",
            "HugePages_Total:       0\n",
            "HugePages_Free:        0\n",
            "HugePages_Rsvd:        0\n",
            "HugePages_Surp:        0\n",
            "Hugepagesize:       2048 kB\n",
            "DirectMap4k:       96244 kB\n",
            "DirectMap2M:     5146624 kB\n",
            "DirectMap1G:    10485760 kB\n"
          ],
          "name": "stdout"
        }
      ]
    },
    {
      "metadata": {
        "id": "efsF8FDLKIIT",
        "colab_type": "code",
        "colab": {}
      },
      "cell_type": "code",
      "source": [
        "pytorch --version"
      ],
      "execution_count": 0,
      "outputs": []
    },
    {
      "metadata": {
        "id": "Bir89v9tJI63",
        "colab_type": "code",
        "outputId": "aea57b20-7952-44af-be8e-f38b7371e3e1",
        "colab": {
          "base_uri": "https://localhost:8080/",
          "height": 312
        }
      },
      "cell_type": "code",
      "source": [
        "!nvidia-smi"
      ],
      "execution_count": 0,
      "outputs": [
        {
          "output_type": "stream",
          "text": [
            "Wed Apr 24 16:19:43 2019       \n",
            "+-----------------------------------------------------------------------------+\n",
            "| NVIDIA-SMI 418.56       Driver Version: 410.79       CUDA Version: 10.0     |\n",
            "|-------------------------------+----------------------+----------------------+\n",
            "| GPU  Name        Persistence-M| Bus-Id        Disp.A | Volatile Uncorr. ECC |\n",
            "| Fan  Temp  Perf  Pwr:Usage/Cap|         Memory-Usage | GPU-Util  Compute M. |\n",
            "|===============================+======================+======================|\n",
            "|   0  Tesla T4            Off  | 00000000:00:04.0 Off |                    0 |\n",
            "| N/A   44C    P8    16W /  70W |      0MiB / 15079MiB |      0%      Default |\n",
            "+-------------------------------+----------------------+----------------------+\n",
            "                                                                               \n",
            "+-----------------------------------------------------------------------------+\n",
            "| Processes:                                                       GPU Memory |\n",
            "|  GPU       PID   Type   Process name                             Usage      |\n",
            "|=============================================================================|\n",
            "|  No running processes found                                                 |\n",
            "+-----------------------------------------------------------------------------+\n"
          ],
          "name": "stdout"
        }
      ]
    },
    {
      "metadata": {
        "id": "yS5ejb2fNK41",
        "colab_type": "code",
        "colab": {}
      },
      "cell_type": "code",
      "source": [
        "!cat /proc/version"
      ],
      "execution_count": 0,
      "outputs": []
    },
    {
      "metadata": {
        "id": "gZRWVyr1NOo8",
        "colab_type": "code",
        "colab": {}
      },
      "cell_type": "code",
      "source": [
        "uname -a"
      ],
      "execution_count": 0,
      "outputs": []
    },
    {
      "metadata": {
        "id": "dWg3khitGlBL",
        "colab_type": "text"
      },
      "cell_type": "markdown",
      "source": [
        "使用内存达到7.88GB\n",
        "需要释放内存"
      ]
    },
    {
      "metadata": {
        "id": "Ouoed-bKGlN3",
        "colab_type": "code",
        "outputId": "b34b6b8c-e521-41d1-fa54-67c925ed4499",
        "colab": {
          "base_uri": "https://localhost:8080/",
          "height": 69
        }
      },
      "cell_type": "code",
      "source": [
        "!free -m"
      ],
      "execution_count": 0,
      "outputs": [
        {
          "output_type": "stream",
          "text": [
            "              total        used        free      shared  buff/cache   available\n",
            "Mem:          13022       10308         673           0        2039        4949\n",
            "Swap:             0           0           0\n"
          ],
          "name": "stdout"
        }
      ]
    },
    {
      "metadata": {
        "id": "ojgarxbUT0j7",
        "colab_type": "code",
        "colab": {}
      },
      "cell_type": "code",
      "source": [
        ""
      ],
      "execution_count": 0,
      "outputs": []
    },
    {
      "metadata": {
        "id": "wNcOWB8uwbmF",
        "colab_type": "text"
      },
      "cell_type": "markdown",
      "source": [
        "### mount GD\n",
        "先drive 启用\n",
        "然后进入云盘目录"
      ]
    },
    {
      "metadata": {
        "id": "YG5Qnoh4M8EG",
        "colab_type": "code",
        "colab": {}
      },
      "cell_type": "code",
      "source": [
        "# pwd\n",
        "from google.colab import drive\n",
        "drive.mount('/gdrive')"
      ],
      "execution_count": 0,
      "outputs": []
    },
    {
      "metadata": {
        "id": "A77qtsUMwSn0",
        "colab_type": "code",
        "colab": {}
      },
      "cell_type": "code",
      "source": [
        "cd /gdrive/My Drive/Colab Notebooks/iqiyi_data"
      ],
      "execution_count": 0,
      "outputs": []
    },
    {
      "metadata": {
        "id": "cXDrhtNexwQB",
        "colab_type": "text"
      },
      "cell_type": "markdown",
      "source": [
        "### 测试读取audio_train.pickle\n",
        "下面是测试读取audio_train.pickle 解决Unpickle error\n",
        "\n",
        "\n",
        "1.   只读取\n",
        "Time Used:0.1769636599999984\n",
        "2.   有输出\n",
        "Time Used:43.543760579\n",
        "\n"
      ]
    },
    {
      "metadata": {
        "id": "7fLyyQykXcaj",
        "colab_type": "code",
        "outputId": "ac76ae4e-45ed-4d3e-dec3-6b907e23536f",
        "colab": {
          "base_uri": "https://localhost:8080/",
          "height": 104
        }
      },
      "cell_type": "code",
      "source": [
        "# -*- coding: utf-8 -*-\n",
        "import pdb\n",
        "import sys\n",
        "import numpy as np\n",
        "import pickle\n",
        "import time\n",
        "def load_pickle(fin):\n",
        "    return pickle.load(fin, encoding='bytes')\n",
        "\n",
        "start = time.process_time()\n",
        "# audio\n",
        "audio_path = './audio_train.pickle'\n",
        "print('loading {}...'.format(audio_path))\n",
        "with open(audio_path, 'rb') as fin:\n",
        "    audio_feats_dict = load_pickle(fin)\n",
        "\n",
        "print('testing...')\n",
        "# for video_ind, video_name in enumerate(audio_feats_dict):\n",
        "#     sys.stdout.write('{}/{}\\r'.format(video_ind+1, len(audio_feats_dict)))\n",
        "#     sys.stdout.flush()\n",
        "#     audio_feat = audio_feats_dict[video_name]\n",
        "#     assert(audio_feat.dtype==np.float16 and audio_feat.shape[0]==512)\n",
        "sys.stdout.write('\\n')\n",
        "sys.stdout.flush()\n",
        "print(\"Load File Done!\")\n",
        "print(\"Time Used:{}\".format(time.process_time()-start))"
      ],
      "execution_count": 0,
      "outputs": [
        {
          "output_type": "stream",
          "text": [
            "loading ./audio_train.pickle...\n",
            "testing...\n",
            "\n",
            "Load File Done!\n",
            "Time Used:0.18714604999999995\n"
          ],
          "name": "stdout"
        }
      ]
    },
    {
      "metadata": {
        "id": "xZGvwkFMKLky",
        "colab_type": "text"
      },
      "cell_type": "markdown",
      "source": [
        "### ERROR1： UnpicklingError: invalid load key, '\\xc5'\n",
        "A1:经检查MD5 文件下载出现错误\n",
        "\n"
      ]
    },
    {
      "metadata": {
        "id": "tdOJwbkY0Gbk",
        "colab_type": "text"
      },
      "cell_type": "markdown",
      "source": [
        "### 显示GPU内存使用情况"
      ]
    },
    {
      "metadata": {
        "id": "8UFy57bw0NNK",
        "colab_type": "text"
      },
      "cell_type": "markdown",
      "source": [
        "!watch nvidia-smi"
      ]
    },
    {
      "metadata": {
        "id": "ZkJeFFOhKJ38",
        "colab_type": "code",
        "colab": {}
      },
      "cell_type": "code",
      "source": [
        "!nvidia-smi"
      ],
      "execution_count": 0,
      "outputs": []
    }
  ]
}